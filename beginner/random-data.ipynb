{
 "cells": [
  {
   "cell_type": "code",
   "execution_count": 1,
   "metadata": {},
   "outputs": [],
   "source": [
    "import pennylane as qml\n",
    "from pennylane import numpy as np\n",
    "import torch\n",
    "from math import pi"
   ]
  },
  {
   "cell_type": "code",
   "execution_count": 2,
   "metadata": {},
   "outputs": [],
   "source": [
    "from torch.utils.data import Dataset\n",
    "from torch.utils.data import DataLoader\n",
    "from torch.autograd import Variable\n",
    "\n",
    "class makedata(Dataset):\n",
    "    def __init__(self, col, n_feat, maximum):\n",
    "        self.col = col  #number of datapoints\n",
    "        self.n_feat = n_feat  #number of features\n",
    "        self.maximum = maximum  #increase the range of feature data\n",
    "        self.classes = 2   #number of classes\n",
    "\n",
    "        if col%2 != 0:\n",
    "            col = col+1\n",
    "            print(\"Making datasize an even number for ease: col =\", col)\n",
    "            \n",
    "        self.Xdata1 = Variable(torch.rand(col//2, n_feat)*maximum -0.4 , requires_grad=True) \n",
    "        self.Xdata2 = Variable(torch.rand(col//2, n_feat)*(-maximum) +0.4, requires_grad=True)\n",
    "        self.Xdata = torch.cat((self.Xdata1, self.Xdata2), dim=0)\n",
    "\n",
    "        self.Ydata = torch.cat((torch.full((col//2,), 1),torch.full((col//2,), -1)))       \n",
    "\n",
    "    def __len__(self):\n",
    "        return len(self.Ydata)\n",
    "\n",
    "    def __getitem__(self, idx):\n",
    "        return self.Xdata[idx],self.Ydata[idx]\n"
   ]
  },
  {
   "cell_type": "code",
   "execution_count": 3,
   "metadata": {},
   "outputs": [],
   "source": [
    "r =5\n",
    "data = makedata(100, 2, r)"
   ]
  },
  {
   "cell_type": "code",
   "execution_count": 4,
   "metadata": {},
   "outputs": [
    {
     "name": "stdout",
     "output_type": "stream",
     "text": [
      "100\n",
      "tensor([[ 3.5271e+00,  7.9728e-01],\n",
      "        [ 2.9652e+00,  1.3445e+00],\n",
      "        [ 2.2188e+00,  4.5787e+00],\n",
      "        [ 2.7827e+00,  3.4060e+00],\n",
      "        [ 6.3849e-01, -3.6385e-01],\n",
      "        [ 3.1823e+00,  3.8951e+00],\n",
      "        [ 3.6600e+00,  2.2477e+00],\n",
      "        [ 2.3494e+00,  6.9114e-01],\n",
      "        [ 2.3536e-01,  4.3942e+00],\n",
      "        [ 2.2289e+00,  1.5881e+00],\n",
      "        [ 7.2946e-01,  1.8004e+00],\n",
      "        [ 3.3213e+00,  1.9918e+00],\n",
      "        [ 2.8237e-01,  1.0404e+00],\n",
      "        [ 3.5336e-01,  1.0284e+00],\n",
      "        [ 4.0568e+00,  2.1841e+00],\n",
      "        [ 3.0561e-03,  3.5345e+00],\n",
      "        [ 1.0025e+00,  1.7504e+00],\n",
      "        [ 2.5314e+00,  3.3267e+00],\n",
      "        [ 2.2823e+00,  3.3761e+00],\n",
      "        [ 7.6741e-01,  3.3343e+00],\n",
      "        [ 1.4858e-01,  6.5780e-01],\n",
      "        [ 7.0094e-01,  1.4629e+00],\n",
      "        [ 4.0152e+00,  2.1622e+00],\n",
      "        [ 4.0587e+00, -2.5349e-01],\n",
      "        [ 2.3039e+00, -1.2409e-01],\n",
      "        [ 1.2279e+00,  1.9639e+00],\n",
      "        [ 1.6273e+00,  3.6636e-01],\n",
      "        [ 1.1120e+00,  1.5387e-01],\n",
      "        [ 5.9196e-01,  2.2953e+00],\n",
      "        [ 4.4616e+00,  1.1861e+00],\n",
      "        [ 3.4359e+00,  3.0198e+00],\n",
      "        [ 2.0239e+00,  2.4679e+00],\n",
      "        [ 1.6422e+00,  2.0573e-01],\n",
      "        [ 2.9371e+00,  3.7699e+00],\n",
      "        [ 2.2719e+00,  1.6999e-01],\n",
      "        [ 3.0886e+00,  2.6877e+00],\n",
      "        [-8.5235e-02,  7.7219e-01],\n",
      "        [ 2.8222e+00,  3.4827e+00],\n",
      "        [ 4.1472e+00,  1.9841e+00],\n",
      "        [ 3.6999e+00,  4.2227e+00],\n",
      "        [ 1.8359e+00,  2.2451e+00],\n",
      "        [ 6.2527e-01,  1.9744e+00],\n",
      "        [ 3.6202e+00,  2.2065e+00],\n",
      "        [ 1.8853e+00,  7.5441e-01],\n",
      "        [ 3.8115e+00, -2.2782e-01],\n",
      "        [ 1.1045e-01,  8.2961e-02],\n",
      "        [ 3.2929e-01,  6.0503e-01],\n",
      "        [-3.3260e-01,  2.2182e+00],\n",
      "        [ 1.2883e+00,  3.4899e+00],\n",
      "        [ 1.0957e+00, -2.1471e-01]], requires_grad=True)\n",
      "tensor([[-1.9285, -3.9296],\n",
      "        [-1.8469, -1.3021],\n",
      "        [-2.7650, -2.0840],\n",
      "        [-2.2182,  0.1424],\n",
      "        [-1.2653, -4.5321],\n",
      "        [-4.4388, -0.5163],\n",
      "        [-3.6535, -3.4341],\n",
      "        [ 0.1287, -1.7933],\n",
      "        [-2.8114, -3.3926],\n",
      "        [-3.6916, -1.9226],\n",
      "        [-1.4575, -2.2028],\n",
      "        [-2.4350, -3.0450],\n",
      "        [-0.0595, -0.6542],\n",
      "        [-4.2864, -2.2349],\n",
      "        [-1.4983, -2.4596],\n",
      "        [-0.3312, -3.6300],\n",
      "        [-1.9381,  0.1062],\n",
      "        [-2.4752, -2.9698],\n",
      "        [-0.2433, -1.8388],\n",
      "        [-2.3257, -2.3467],\n",
      "        [-3.6422, -0.3498],\n",
      "        [-1.3178, -2.8690],\n",
      "        [-2.1518, -4.0999],\n",
      "        [-3.9351, -2.8732],\n",
      "        [-1.7159, -4.1828],\n",
      "        [-1.2916, -4.2694],\n",
      "        [-3.8948,  0.1583],\n",
      "        [-0.1839,  0.0968],\n",
      "        [-3.2814, -3.0513],\n",
      "        [-2.4114, -3.8941],\n",
      "        [ 0.3173, -0.9214],\n",
      "        [-1.5935,  0.2054],\n",
      "        [-1.2992, -4.5442],\n",
      "        [-1.4031, -3.9932],\n",
      "        [-4.2700, -0.2108],\n",
      "        [-3.1587, -1.1514],\n",
      "        [-3.6790, -2.0972],\n",
      "        [-3.8594, -3.8037],\n",
      "        [-1.1924, -2.7200],\n",
      "        [-0.1160, -4.1781],\n",
      "        [-1.1930, -0.3887],\n",
      "        [-3.5338, -2.3147],\n",
      "        [-2.8776, -0.7898],\n",
      "        [-3.0822, -0.3638],\n",
      "        [ 0.3436, -3.7191],\n",
      "        [-2.6104, -0.0668],\n",
      "        [-3.5677, -3.5902],\n",
      "        [-3.8060, -3.7325],\n",
      "        [-3.8330, -1.2781],\n",
      "        [-0.7629, -0.5367]], requires_grad=True)\n",
      "tensor([[ 3.5271e+00,  7.9728e-01],\n",
      "        [ 2.9652e+00,  1.3445e+00],\n",
      "        [ 2.2188e+00,  4.5787e+00],\n",
      "        [ 2.7827e+00,  3.4060e+00],\n",
      "        [ 6.3849e-01, -3.6385e-01],\n",
      "        [ 3.1823e+00,  3.8951e+00],\n",
      "        [ 3.6600e+00,  2.2477e+00],\n",
      "        [ 2.3494e+00,  6.9114e-01],\n",
      "        [ 2.3536e-01,  4.3942e+00],\n",
      "        [ 2.2289e+00,  1.5881e+00],\n",
      "        [ 7.2946e-01,  1.8004e+00],\n",
      "        [ 3.3213e+00,  1.9918e+00],\n",
      "        [ 2.8237e-01,  1.0404e+00],\n",
      "        [ 3.5336e-01,  1.0284e+00],\n",
      "        [ 4.0568e+00,  2.1841e+00],\n",
      "        [ 3.0561e-03,  3.5345e+00],\n",
      "        [ 1.0025e+00,  1.7504e+00],\n",
      "        [ 2.5314e+00,  3.3267e+00],\n",
      "        [ 2.2823e+00,  3.3761e+00],\n",
      "        [ 7.6741e-01,  3.3343e+00],\n",
      "        [ 1.4858e-01,  6.5780e-01],\n",
      "        [ 7.0094e-01,  1.4629e+00],\n",
      "        [ 4.0152e+00,  2.1622e+00],\n",
      "        [ 4.0587e+00, -2.5349e-01],\n",
      "        [ 2.3039e+00, -1.2409e-01],\n",
      "        [ 1.2279e+00,  1.9639e+00],\n",
      "        [ 1.6273e+00,  3.6636e-01],\n",
      "        [ 1.1120e+00,  1.5387e-01],\n",
      "        [ 5.9196e-01,  2.2953e+00],\n",
      "        [ 4.4616e+00,  1.1861e+00],\n",
      "        [ 3.4359e+00,  3.0198e+00],\n",
      "        [ 2.0239e+00,  2.4679e+00],\n",
      "        [ 1.6422e+00,  2.0573e-01],\n",
      "        [ 2.9371e+00,  3.7699e+00],\n",
      "        [ 2.2719e+00,  1.6999e-01],\n",
      "        [ 3.0886e+00,  2.6877e+00],\n",
      "        [-8.5235e-02,  7.7219e-01],\n",
      "        [ 2.8222e+00,  3.4827e+00],\n",
      "        [ 4.1472e+00,  1.9841e+00],\n",
      "        [ 3.6999e+00,  4.2227e+00],\n",
      "        [ 1.8359e+00,  2.2451e+00],\n",
      "        [ 6.2527e-01,  1.9744e+00],\n",
      "        [ 3.6202e+00,  2.2065e+00],\n",
      "        [ 1.8853e+00,  7.5441e-01],\n",
      "        [ 3.8115e+00, -2.2782e-01],\n",
      "        [ 1.1045e-01,  8.2961e-02],\n",
      "        [ 3.2929e-01,  6.0503e-01],\n",
      "        [-3.3260e-01,  2.2182e+00],\n",
      "        [ 1.2883e+00,  3.4899e+00],\n",
      "        [ 1.0957e+00, -2.1471e-01],\n",
      "        [-1.9285e+00, -3.9296e+00],\n",
      "        [-1.8469e+00, -1.3021e+00],\n",
      "        [-2.7650e+00, -2.0840e+00],\n",
      "        [-2.2182e+00,  1.4244e-01],\n",
      "        [-1.2653e+00, -4.5321e+00],\n",
      "        [-4.4388e+00, -5.1634e-01],\n",
      "        [-3.6535e+00, -3.4341e+00],\n",
      "        [ 1.2873e-01, -1.7933e+00],\n",
      "        [-2.8114e+00, -3.3926e+00],\n",
      "        [-3.6916e+00, -1.9226e+00],\n",
      "        [-1.4575e+00, -2.2028e+00],\n",
      "        [-2.4350e+00, -3.0450e+00],\n",
      "        [-5.9482e-02, -6.5420e-01],\n",
      "        [-4.2864e+00, -2.2349e+00],\n",
      "        [-1.4983e+00, -2.4596e+00],\n",
      "        [-3.3122e-01, -3.6300e+00],\n",
      "        [-1.9381e+00,  1.0625e-01],\n",
      "        [-2.4752e+00, -2.9698e+00],\n",
      "        [-2.4332e-01, -1.8388e+00],\n",
      "        [-2.3257e+00, -2.3467e+00],\n",
      "        [-3.6422e+00, -3.4982e-01],\n",
      "        [-1.3178e+00, -2.8690e+00],\n",
      "        [-2.1518e+00, -4.0999e+00],\n",
      "        [-3.9351e+00, -2.8732e+00],\n",
      "        [-1.7159e+00, -4.1828e+00],\n",
      "        [-1.2916e+00, -4.2694e+00],\n",
      "        [-3.8948e+00,  1.5827e-01],\n",
      "        [-1.8391e-01,  9.6759e-02],\n",
      "        [-3.2814e+00, -3.0513e+00],\n",
      "        [-2.4114e+00, -3.8941e+00],\n",
      "        [ 3.1727e-01, -9.2144e-01],\n",
      "        [-1.5935e+00,  2.0542e-01],\n",
      "        [-1.2992e+00, -4.5442e+00],\n",
      "        [-1.4031e+00, -3.9932e+00],\n",
      "        [-4.2700e+00, -2.1083e-01],\n",
      "        [-3.1587e+00, -1.1514e+00],\n",
      "        [-3.6790e+00, -2.0972e+00],\n",
      "        [-3.8594e+00, -3.8037e+00],\n",
      "        [-1.1924e+00, -2.7200e+00],\n",
      "        [-1.1605e-01, -4.1781e+00],\n",
      "        [-1.1930e+00, -3.8869e-01],\n",
      "        [-3.5338e+00, -2.3147e+00],\n",
      "        [-2.8776e+00, -7.8977e-01],\n",
      "        [-3.0822e+00, -3.6376e-01],\n",
      "        [ 3.4358e-01, -3.7191e+00],\n",
      "        [-2.6104e+00, -6.6768e-02],\n",
      "        [-3.5677e+00, -3.5902e+00],\n",
      "        [-3.8060e+00, -3.7325e+00],\n",
      "        [-3.8330e+00, -1.2781e+00],\n",
      "        [-7.6293e-01, -5.3668e-01]], grad_fn=<CatBackward>)\n",
      "tensor([ 1.,  1.,  1.,  1.,  1.,  1.,  1.,  1.,  1.,  1.,  1.,  1.,  1.,  1.,\n",
      "         1.,  1.,  1.,  1.,  1.,  1.,  1.,  1.,  1.,  1.,  1.,  1.,  1.,  1.,\n",
      "         1.,  1.,  1.,  1.,  1.,  1.,  1.,  1.,  1.,  1.,  1.,  1.,  1.,  1.,\n",
      "         1.,  1.,  1.,  1.,  1.,  1.,  1.,  1., -1., -1., -1., -1., -1., -1.,\n",
      "        -1., -1., -1., -1., -1., -1., -1., -1., -1., -1., -1., -1., -1., -1.,\n",
      "        -1., -1., -1., -1., -1., -1., -1., -1., -1., -1., -1., -1., -1., -1.,\n",
      "        -1., -1., -1., -1., -1., -1., -1., -1., -1., -1., -1., -1., -1., -1.,\n",
      "        -1., -1.])\n",
      "tensor([2.2188, 4.5787], grad_fn=<SelectBackward>) tensor(1.)\n"
     ]
    }
   ],
   "source": [
    "print(len(data))\n",
    "print(data.Xdata1)\n",
    "print(data.Xdata2)\n",
    "print(data.Xdata)\n",
    "print(data.Ydata)\n",
    "x,y = data.__getitem__(2)\n",
    "print(x,y)"
   ]
  },
  {
   "cell_type": "code",
   "execution_count": 23,
   "metadata": {},
   "outputs": [
    {
     "name": "stdout",
     "output_type": "stream",
     "text": [
      "tensor([[-3.6916, -1.9226],\n",
      "        [-1.9381,  0.1062]], grad_fn=<StackBackward>) tensor([-1., -1.])\n",
      "2\n"
     ]
    }
   ],
   "source": [
    "batch_size = 2\n",
    "data_batches = DataLoader(data, batch_size=batch_size, shuffle=True)\n",
    "for d in data_batches:\n",
    "    x,y = d\n",
    "    print(x,y)\n",
    "    break\n",
    "print(x.shape[0])"
   ]
  },
  {
   "cell_type": "code",
   "execution_count": 6,
   "metadata": {},
   "outputs": [],
   "source": [
    "np_Xdata1 = data.Xdata1.detach().numpy()\n",
    "np_Xdata2 = data.Xdata2.detach().numpy()"
   ]
  },
  {
   "cell_type": "code",
   "execution_count": 7,
   "metadata": {},
   "outputs": [
    {
     "data": {
      "text/plain": [
       "<Figure size 640x480 with 1 Axes>"
      ]
     },
     "metadata": {},
     "output_type": "display_data"
    }
   ],
   "source": [
    "import matplotlib.pyplot as plt\n",
    "\n",
    "colors = (\"red\", \"blue\")\n",
    "groups = (\"class 1\", \"class 2\")\n",
    "\n",
    "plt.scatter(np_Xdata1[:,0], np_Xdata1[:,1], color=\"tab:red\", label= \"Class1\")\n",
    "plt.scatter(np_Xdata2[:,0], np_Xdata2[:,1], color=\"tab:blue\", label = \"Class2\")\n",
    "plt.legend(loc = 'best')\n",
    "plt.show()"
   ]
  },
  {
   "cell_type": "code",
   "execution_count": 8,
   "metadata": {},
   "outputs": [],
   "source": [
    "from pennylane.templates.embeddings import AmplitudeEmbedding\n",
    "\n",
    "def randlayer(W):\n",
    "    qml.Rot(W[0, 0], W[0, 1], W[0, 2], wires=0)\n",
    "    qml.Rot(W[1, 0], W[1, 1], W[1, 2], wires=1)\n",
    "    qml.CNOT(wires=[0,1])\n",
    "\n",
    "dev = qml.device('default.qubit', wires=2)\n",
    "\n",
    "@qml.qnode(dev, interface = 'torch')\n",
    "def circuit(w1, w2, p=None):\n",
    "    AmplitudeEmbedding(p, wires=[0,1], pad=True, normalize=True)\n",
    "    randlayer(w1)\n",
    "    randlayer(w2)\n",
    "    return qml.expval(qml.PauliZ(0))\n"
   ]
  },
  {
   "cell_type": "code",
   "execution_count": 24,
   "metadata": {},
   "outputs": [],
   "source": [
    "def get_pred(w1, w2, x):   #predictions for one batch\n",
    "    n_points= x.shape[0]\n",
    "    pred_batch = torch.empty(n_points,)    \n",
    "    for i in range(n_points):\n",
    "        pred = circuit(w1, w2, p=x[i])\n",
    "        if pred > 0:\n",
    "            torch.ceil(pred)\n",
    "        elif pred < 0:\n",
    "            torch.floor(pred)\n",
    "        pred_batch[i]=pred\n",
    "    return pred_batch"
   ]
  },
  {
   "cell_type": "code",
   "execution_count": 10,
   "metadata": {},
   "outputs": [],
   "source": [
    "def get_loss(w1, w2, x, y):\n",
    "    loss = torch.empty(1,)\n",
    "    pred = get_pred(w1, w2, x)\n",
    "    loss = torch.sum((pred-y)**2)\n",
    "    return loss/len(y)"
   ]
  },
  {
   "cell_type": "code",
   "execution_count": 11,
   "metadata": {},
   "outputs": [],
   "source": [
    "torch.manual_seed(1)\n",
    "w1_init = Variable((2*pi * torch.rand((2, 3), dtype=torch.float64)), requires_grad=True)\n",
    "w2_init = Variable((2*pi * torch.rand((2, 3), dtype=torch.float64)), requires_grad=True)"
   ]
  },
  {
   "cell_type": "code",
   "execution_count": null,
   "metadata": {},
   "outputs": [],
   "source": [
    "test = Variable(torch.tensor([0.001, 0.004]),requires_grad = True)\n",
    "res = circuit(w1_init, w2_init, p=test)\n",
    "print(res)"
   ]
  },
  {
   "cell_type": "code",
   "execution_count": null,
   "metadata": {},
   "outputs": [],
   "source": [
    "res.backward()\n",
    "w1_init.grad"
   ]
  },
  {
   "cell_type": "code",
   "execution_count": 12,
   "metadata": {},
   "outputs": [],
   "source": [
    "w1= w1_init\n",
    "w2= w2_init"
   ]
  },
  {
   "cell_type": "code",
   "execution_count": 15,
   "metadata": {},
   "outputs": [
    {
     "ename": "KeyboardInterrupt",
     "evalue": "",
     "output_type": "error",
     "traceback": [
      "\u001b[0;31m---------------------------------------------------------------------------\u001b[0m",
      "\u001b[0;31mKeyboardInterrupt\u001b[0m                         Traceback (most recent call last)",
      "\u001b[0;32m<ipython-input-15-5258769d0886>\u001b[0m in \u001b[0;36m<module>\u001b[0;34m\u001b[0m\n\u001b[1;32m      8\u001b[0m             \u001b[0mopt\u001b[0m\u001b[0;34m.\u001b[0m\u001b[0mzero_grad\u001b[0m\u001b[0;34m(\u001b[0m\u001b[0;34m)\u001b[0m\u001b[0;34m\u001b[0m\u001b[0;34m\u001b[0m\u001b[0m\n\u001b[1;32m      9\u001b[0m             \u001b[0mloss\u001b[0m \u001b[0;34m=\u001b[0m \u001b[0mget_loss\u001b[0m\u001b[0;34m(\u001b[0m\u001b[0mw1\u001b[0m\u001b[0;34m,\u001b[0m \u001b[0mw2\u001b[0m\u001b[0;34m,\u001b[0m \u001b[0mx\u001b[0m\u001b[0;34m,\u001b[0m \u001b[0my\u001b[0m\u001b[0;34m)\u001b[0m\u001b[0;34m\u001b[0m\u001b[0;34m\u001b[0m\u001b[0m\n\u001b[0;32m---> 10\u001b[0;31m             \u001b[0mloss\u001b[0m\u001b[0;34m.\u001b[0m\u001b[0mbackward\u001b[0m\u001b[0;34m(\u001b[0m\u001b[0;34m)\u001b[0m\u001b[0;34m\u001b[0m\u001b[0;34m\u001b[0m\u001b[0m\n\u001b[0m\u001b[1;32m     11\u001b[0m             \u001b[0mopt\u001b[0m\u001b[0;34m.\u001b[0m\u001b[0mstep\u001b[0m\u001b[0;34m(\u001b[0m\u001b[0;34m)\u001b[0m\u001b[0;34m\u001b[0m\u001b[0;34m\u001b[0m\u001b[0m\n\u001b[1;32m     12\u001b[0m             \u001b[0mrec\u001b[0m\u001b[0;34m.\u001b[0m\u001b[0mappend\u001b[0m\u001b[0;34m(\u001b[0m\u001b[0mloss\u001b[0m\u001b[0;34m.\u001b[0m\u001b[0mitem\u001b[0m\u001b[0;34m(\u001b[0m\u001b[0;34m)\u001b[0m\u001b[0;34m)\u001b[0m\u001b[0;34m\u001b[0m\u001b[0;34m\u001b[0m\u001b[0m\n",
      "\u001b[0;32m~/anaconda3/lib/python3.7/site-packages/torch/tensor.py\u001b[0m in \u001b[0;36mbackward\u001b[0;34m(self, gradient, retain_graph, create_graph)\u001b[0m\n\u001b[1;32m    148\u001b[0m                 \u001b[0mproducts\u001b[0m\u001b[0;34m.\u001b[0m \u001b[0mDefaults\u001b[0m \u001b[0mto\u001b[0m\u001b[0;31m \u001b[0m\u001b[0;31m`\u001b[0m\u001b[0;31m`\u001b[0m\u001b[0;32mFalse\u001b[0m\u001b[0;31m`\u001b[0m\u001b[0;31m`\u001b[0m\u001b[0;34m.\u001b[0m\u001b[0;34m\u001b[0m\u001b[0;34m\u001b[0m\u001b[0m\n\u001b[1;32m    149\u001b[0m         \"\"\"\n\u001b[0;32m--> 150\u001b[0;31m         \u001b[0mtorch\u001b[0m\u001b[0;34m.\u001b[0m\u001b[0mautograd\u001b[0m\u001b[0;34m.\u001b[0m\u001b[0mbackward\u001b[0m\u001b[0;34m(\u001b[0m\u001b[0mself\u001b[0m\u001b[0;34m,\u001b[0m \u001b[0mgradient\u001b[0m\u001b[0;34m,\u001b[0m \u001b[0mretain_graph\u001b[0m\u001b[0;34m,\u001b[0m \u001b[0mcreate_graph\u001b[0m\u001b[0;34m)\u001b[0m\u001b[0;34m\u001b[0m\u001b[0;34m\u001b[0m\u001b[0m\n\u001b[0m\u001b[1;32m    151\u001b[0m \u001b[0;34m\u001b[0m\u001b[0m\n\u001b[1;32m    152\u001b[0m     \u001b[0;32mdef\u001b[0m \u001b[0mregister_hook\u001b[0m\u001b[0;34m(\u001b[0m\u001b[0mself\u001b[0m\u001b[0;34m,\u001b[0m \u001b[0mhook\u001b[0m\u001b[0;34m)\u001b[0m\u001b[0;34m:\u001b[0m\u001b[0;34m\u001b[0m\u001b[0;34m\u001b[0m\u001b[0m\n",
      "\u001b[0;32m~/anaconda3/lib/python3.7/site-packages/torch/autograd/__init__.py\u001b[0m in \u001b[0;36mbackward\u001b[0;34m(tensors, grad_tensors, retain_graph, create_graph, grad_variables)\u001b[0m\n\u001b[1;32m     97\u001b[0m     Variable._execution_engine.run_backward(\n\u001b[1;32m     98\u001b[0m         \u001b[0mtensors\u001b[0m\u001b[0;34m,\u001b[0m \u001b[0mgrad_tensors\u001b[0m\u001b[0;34m,\u001b[0m \u001b[0mretain_graph\u001b[0m\u001b[0;34m,\u001b[0m \u001b[0mcreate_graph\u001b[0m\u001b[0;34m,\u001b[0m\u001b[0;34m\u001b[0m\u001b[0;34m\u001b[0m\u001b[0m\n\u001b[0;32m---> 99\u001b[0;31m         allow_unreachable=True)  # allow_unreachable flag\n\u001b[0m\u001b[1;32m    100\u001b[0m \u001b[0;34m\u001b[0m\u001b[0m\n\u001b[1;32m    101\u001b[0m \u001b[0;34m\u001b[0m\u001b[0m\n",
      "\u001b[0;31mKeyboardInterrupt\u001b[0m: "
     ]
    }
   ],
   "source": [
    "opt = torch.optim.SGD([w1, w2], lr = 0.01)\n",
    "\n",
    "for epoch in range(3):\n",
    "    for d in data_batches:\n",
    "        x,y = d\n",
    "        rec= []\n",
    "        for step in range(300):\n",
    "            opt.zero_grad()\n",
    "            loss = get_loss(w1, w2, x, y)\n",
    "            loss.backward()\n",
    "            opt.step()\n",
    "            rec.append(loss.item())"
   ]
  },
  {
   "cell_type": "code",
   "execution_count": 18,
   "metadata": {},
   "outputs": [
    {
     "name": "stdout",
     "output_type": "stream",
     "text": [
      "tensor([[0.3836, 2.2052, 0.8695],\n",
      "        [0.6823, 4.7685, 1.7008]], dtype=torch.float64, requires_grad=True)\n"
     ]
    }
   ],
   "source": [
    "fin1, fin2 = opt.param_groups[0]['params']\n",
    "print(fin1)"
   ]
  },
  {
   "cell_type": "code",
   "execution_count": 25,
   "metadata": {
    "scrolled": true
   },
   "outputs": [
    {
     "ename": "TypeError",
     "evalue": "len() of unsized object",
     "output_type": "error",
     "traceback": [
      "\u001b[0;31m---------------------------------------------------------------------------\u001b[0m",
      "\u001b[0;31mTypeError\u001b[0m                                 Traceback (most recent call last)",
      "\u001b[0;32m<ipython-input-25-af6bdfd385b7>\u001b[0m in \u001b[0;36m<module>\u001b[0;34m\u001b[0m\n\u001b[1;32m      1\u001b[0m \u001b[0;32mwith\u001b[0m \u001b[0mtorch\u001b[0m\u001b[0;34m.\u001b[0m\u001b[0mno_grad\u001b[0m\u001b[0;34m(\u001b[0m\u001b[0;34m)\u001b[0m\u001b[0;34m:\u001b[0m\u001b[0;34m\u001b[0m\u001b[0;34m\u001b[0m\u001b[0m\n\u001b[1;32m      2\u001b[0m     \u001b[0mx\u001b[0m\u001b[0;34m,\u001b[0m\u001b[0my\u001b[0m \u001b[0;34m=\u001b[0m \u001b[0mdata\u001b[0m\u001b[0;34m.\u001b[0m\u001b[0m__getitem__\u001b[0m\u001b[0;34m(\u001b[0m\u001b[0;36m2\u001b[0m\u001b[0;34m)\u001b[0m\u001b[0;34m\u001b[0m\u001b[0;34m\u001b[0m\u001b[0m\n\u001b[0;32m----> 3\u001b[0;31m     \u001b[0mpred\u001b[0m \u001b[0;34m=\u001b[0m \u001b[0mget_pred\u001b[0m\u001b[0;34m(\u001b[0m\u001b[0mfin1\u001b[0m\u001b[0;34m,\u001b[0m\u001b[0mfin2\u001b[0m\u001b[0;34m,\u001b[0m\u001b[0mx\u001b[0m\u001b[0;34m)\u001b[0m\u001b[0;34m\u001b[0m\u001b[0;34m\u001b[0m\u001b[0m\n\u001b[0m\u001b[1;32m      4\u001b[0m     \u001b[0mprint\u001b[0m\u001b[0;34m(\u001b[0m\u001b[0mpred\u001b[0m\u001b[0;34m,\u001b[0m \u001b[0my\u001b[0m\u001b[0;34m)\u001b[0m\u001b[0;34m\u001b[0m\u001b[0;34m\u001b[0m\u001b[0m\n",
      "\u001b[0;32m<ipython-input-24-079af76a87e9>\u001b[0m in \u001b[0;36mget_pred\u001b[0;34m(w1, w2, x)\u001b[0m\n\u001b[1;32m      3\u001b[0m     \u001b[0mpred_batch\u001b[0m \u001b[0;34m=\u001b[0m \u001b[0mtorch\u001b[0m\u001b[0;34m.\u001b[0m\u001b[0mempty\u001b[0m\u001b[0;34m(\u001b[0m\u001b[0mn_points\u001b[0m\u001b[0;34m,\u001b[0m\u001b[0;34m)\u001b[0m\u001b[0;34m\u001b[0m\u001b[0;34m\u001b[0m\u001b[0m\n\u001b[1;32m      4\u001b[0m     \u001b[0;32mfor\u001b[0m \u001b[0mi\u001b[0m \u001b[0;32min\u001b[0m \u001b[0mrange\u001b[0m\u001b[0;34m(\u001b[0m\u001b[0mn_points\u001b[0m\u001b[0;34m)\u001b[0m\u001b[0;34m:\u001b[0m\u001b[0;34m\u001b[0m\u001b[0;34m\u001b[0m\u001b[0m\n\u001b[0;32m----> 5\u001b[0;31m         \u001b[0mpred\u001b[0m \u001b[0;34m=\u001b[0m \u001b[0mcircuit\u001b[0m\u001b[0;34m(\u001b[0m\u001b[0mw1\u001b[0m\u001b[0;34m,\u001b[0m \u001b[0mw2\u001b[0m\u001b[0;34m,\u001b[0m \u001b[0mp\u001b[0m\u001b[0;34m=\u001b[0m\u001b[0mx\u001b[0m\u001b[0;34m[\u001b[0m\u001b[0mi\u001b[0m\u001b[0;34m]\u001b[0m\u001b[0;34m)\u001b[0m\u001b[0;34m\u001b[0m\u001b[0;34m\u001b[0m\u001b[0m\n\u001b[0m\u001b[1;32m      6\u001b[0m         \u001b[0;32mif\u001b[0m \u001b[0mpred\u001b[0m \u001b[0;34m>\u001b[0m \u001b[0;36m0\u001b[0m\u001b[0;34m:\u001b[0m\u001b[0;34m\u001b[0m\u001b[0;34m\u001b[0m\u001b[0m\n\u001b[1;32m      7\u001b[0m             \u001b[0mtorch\u001b[0m\u001b[0;34m.\u001b[0m\u001b[0mceil\u001b[0m\u001b[0;34m(\u001b[0m\u001b[0mpred\u001b[0m\u001b[0;34m)\u001b[0m\u001b[0;34m\u001b[0m\u001b[0;34m\u001b[0m\u001b[0m\n",
      "\u001b[0;32m~/pennylane/pennylane/interfaces/torch.py\u001b[0m in \u001b[0;36mcustom_apply\u001b[0;34m(*args, **kwargs)\u001b[0m\n\u001b[1;32m    204\u001b[0m         \u001b[0;31m# [keyword_values[k] for k in sorted(keyword_positions, key=keyword_positions.get)]\u001b[0m\u001b[0;34m\u001b[0m\u001b[0;34m\u001b[0m\u001b[0;34m\u001b[0m\u001b[0m\n\u001b[1;32m    205\u001b[0m \u001b[0;34m\u001b[0m\u001b[0m\n\u001b[0;32m--> 206\u001b[0;31m         \u001b[0;32mreturn\u001b[0m \u001b[0m_TorchQNode\u001b[0m\u001b[0;34m.\u001b[0m\u001b[0mapply\u001b[0m\u001b[0;34m(\u001b[0m\u001b[0mkeyword_values\u001b[0m\u001b[0;34m,\u001b[0m \u001b[0;34m*\u001b[0m\u001b[0margs\u001b[0m\u001b[0;34m)\u001b[0m\u001b[0;34m\u001b[0m\u001b[0;34m\u001b[0m\u001b[0m\n\u001b[0m\u001b[1;32m    207\u001b[0m \u001b[0;34m\u001b[0m\u001b[0m\n\u001b[1;32m    208\u001b[0m     \u001b[0;32mreturn\u001b[0m \u001b[0mcustom_apply\u001b[0m\u001b[0;34m\u001b[0m\u001b[0;34m\u001b[0m\u001b[0m\n",
      "\u001b[0;32m~/pennylane/pennylane/interfaces/torch.py\u001b[0m in \u001b[0;36mforward\u001b[0;34m(ctx, input_kwargs, *input_)\u001b[0m\n\u001b[1;32m    117\u001b[0m \u001b[0;34m\u001b[0m\u001b[0m\n\u001b[1;32m    118\u001b[0m             \u001b[0;31m# evaluate the QNode\u001b[0m\u001b[0;34m\u001b[0m\u001b[0;34m\u001b[0m\u001b[0;34m\u001b[0m\u001b[0m\n\u001b[0;32m--> 119\u001b[0;31m             \u001b[0mres\u001b[0m \u001b[0;34m=\u001b[0m \u001b[0mqnode\u001b[0m\u001b[0;34m(\u001b[0m\u001b[0;34m*\u001b[0m\u001b[0mctx\u001b[0m\u001b[0;34m.\u001b[0m\u001b[0margs\u001b[0m\u001b[0;34m,\u001b[0m \u001b[0;34m**\u001b[0m\u001b[0mctx\u001b[0m\u001b[0;34m.\u001b[0m\u001b[0mkwargs\u001b[0m\u001b[0;34m)\u001b[0m\u001b[0;34m\u001b[0m\u001b[0;34m\u001b[0m\u001b[0m\n\u001b[0m\u001b[1;32m    120\u001b[0m \u001b[0;34m\u001b[0m\u001b[0m\n\u001b[1;32m    121\u001b[0m             \u001b[0;32mif\u001b[0m \u001b[0;32mnot\u001b[0m \u001b[0misinstance\u001b[0m\u001b[0;34m(\u001b[0m\u001b[0mres\u001b[0m\u001b[0;34m,\u001b[0m \u001b[0mnp\u001b[0m\u001b[0;34m.\u001b[0m\u001b[0mndarray\u001b[0m\u001b[0;34m)\u001b[0m\u001b[0;34m:\u001b[0m\u001b[0;34m\u001b[0m\u001b[0;34m\u001b[0m\u001b[0m\n",
      "\u001b[0;32m~/pennylane/pennylane/qnode.py\u001b[0m in \u001b[0;36m__call__\u001b[0;34m(self, *args, **kwargs)\u001b[0m\n\u001b[1;32m    538\u001b[0m         \u001b[0;31m# pylint: disable=no-member\u001b[0m\u001b[0;34m\u001b[0m\u001b[0;34m\u001b[0m\u001b[0;34m\u001b[0m\u001b[0m\n\u001b[1;32m    539\u001b[0m         \u001b[0margs\u001b[0m \u001b[0;34m=\u001b[0m \u001b[0mautograd\u001b[0m\u001b[0;34m.\u001b[0m\u001b[0mbuiltins\u001b[0m\u001b[0;34m.\u001b[0m\u001b[0mtuple\u001b[0m\u001b[0;34m(\u001b[0m\u001b[0margs\u001b[0m\u001b[0;34m)\u001b[0m  \u001b[0;31m# prevents autograd boxed arguments from going through to evaluate\u001b[0m\u001b[0;34m\u001b[0m\u001b[0;34m\u001b[0m\u001b[0m\n\u001b[0;32m--> 540\u001b[0;31m         \u001b[0;32mreturn\u001b[0m \u001b[0mself\u001b[0m\u001b[0;34m.\u001b[0m\u001b[0mevaluate\u001b[0m\u001b[0;34m(\u001b[0m\u001b[0margs\u001b[0m\u001b[0;34m,\u001b[0m \u001b[0;34m**\u001b[0m\u001b[0mkwargs\u001b[0m\u001b[0;34m)\u001b[0m  \u001b[0;31m# args as one tuple\u001b[0m\u001b[0;34m\u001b[0m\u001b[0;34m\u001b[0m\u001b[0m\n\u001b[0m\u001b[1;32m    541\u001b[0m \u001b[0;34m\u001b[0m\u001b[0m\n\u001b[1;32m    542\u001b[0m     \u001b[0;34m@\u001b[0m\u001b[0mae\u001b[0m\u001b[0;34m.\u001b[0m\u001b[0mprimitive\u001b[0m\u001b[0;34m\u001b[0m\u001b[0;34m\u001b[0m\u001b[0m\n",
      "\u001b[0;32m~/anaconda3/lib/python3.7/site-packages/autograd/tracer.py\u001b[0m in \u001b[0;36mf_wrapped\u001b[0;34m(*args, **kwargs)\u001b[0m\n\u001b[1;32m     46\u001b[0m             \u001b[0;32mreturn\u001b[0m \u001b[0mnew_box\u001b[0m\u001b[0;34m(\u001b[0m\u001b[0mans\u001b[0m\u001b[0;34m,\u001b[0m \u001b[0mtrace\u001b[0m\u001b[0;34m,\u001b[0m \u001b[0mnode\u001b[0m\u001b[0;34m)\u001b[0m\u001b[0;34m\u001b[0m\u001b[0;34m\u001b[0m\u001b[0m\n\u001b[1;32m     47\u001b[0m         \u001b[0;32melse\u001b[0m\u001b[0;34m:\u001b[0m\u001b[0;34m\u001b[0m\u001b[0;34m\u001b[0m\u001b[0m\n\u001b[0;32m---> 48\u001b[0;31m             \u001b[0;32mreturn\u001b[0m \u001b[0mf_raw\u001b[0m\u001b[0;34m(\u001b[0m\u001b[0;34m*\u001b[0m\u001b[0margs\u001b[0m\u001b[0;34m,\u001b[0m \u001b[0;34m**\u001b[0m\u001b[0mkwargs\u001b[0m\u001b[0;34m)\u001b[0m\u001b[0;34m\u001b[0m\u001b[0;34m\u001b[0m\u001b[0m\n\u001b[0m\u001b[1;32m     49\u001b[0m     \u001b[0mf_wrapped\u001b[0m\u001b[0;34m.\u001b[0m\u001b[0mfun\u001b[0m \u001b[0;34m=\u001b[0m \u001b[0mf_raw\u001b[0m\u001b[0;34m\u001b[0m\u001b[0;34m\u001b[0m\u001b[0m\n\u001b[1;32m     50\u001b[0m     \u001b[0mf_wrapped\u001b[0m\u001b[0;34m.\u001b[0m\u001b[0m_is_autograd_primitive\u001b[0m \u001b[0;34m=\u001b[0m \u001b[0;32mTrue\u001b[0m\u001b[0;34m\u001b[0m\u001b[0;34m\u001b[0m\u001b[0m\n",
      "\u001b[0;32m~/pennylane/pennylane/qnode.py\u001b[0m in \u001b[0;36mevaluate\u001b[0;34m(self, args, **kwargs)\u001b[0m\n\u001b[1;32m    566\u001b[0m \u001b[0;34m\u001b[0m\u001b[0m\n\u001b[1;32m    567\u001b[0m                     \u001b[0;31m# construct the circuit\u001b[0m\u001b[0;34m\u001b[0m\u001b[0;34m\u001b[0m\u001b[0;34m\u001b[0m\u001b[0m\n\u001b[0;32m--> 568\u001b[0;31m                     \u001b[0mself\u001b[0m\u001b[0;34m.\u001b[0m\u001b[0mconstruct\u001b[0m\u001b[0;34m(\u001b[0m\u001b[0mshaped_args\u001b[0m\u001b[0;34m,\u001b[0m \u001b[0mkwargs\u001b[0m\u001b[0;34m)\u001b[0m\u001b[0;34m\u001b[0m\u001b[0;34m\u001b[0m\u001b[0m\n\u001b[0m\u001b[1;32m    569\u001b[0m             \u001b[0;32melse\u001b[0m\u001b[0;34m:\u001b[0m\u001b[0;34m\u001b[0m\u001b[0;34m\u001b[0m\u001b[0m\n\u001b[1;32m    570\u001b[0m                 \u001b[0;31m# circuit has not yet been constructed\u001b[0m\u001b[0;34m\u001b[0m\u001b[0;34m\u001b[0m\u001b[0;34m\u001b[0m\u001b[0m\n",
      "\u001b[0;32m~/pennylane/pennylane/qnode.py\u001b[0m in \u001b[0;36mconstruct\u001b[0;34m(self, args, kwargs)\u001b[0m\n\u001b[1;32m    232\u001b[0m             \u001b[0;32melse\u001b[0m\u001b[0;34m:\u001b[0m\u001b[0;34m\u001b[0m\u001b[0;34m\u001b[0m\u001b[0m\n\u001b[1;32m    233\u001b[0m                 \u001b[0;31m# no caching, fine to directly pass kwarg values\u001b[0m\u001b[0;34m\u001b[0m\u001b[0;34m\u001b[0m\u001b[0;34m\u001b[0m\u001b[0m\n\u001b[0;32m--> 234\u001b[0;31m                 \u001b[0mres\u001b[0m \u001b[0;34m=\u001b[0m \u001b[0mself\u001b[0m\u001b[0;34m.\u001b[0m\u001b[0mfunc\u001b[0m\u001b[0;34m(\u001b[0m\u001b[0;34m*\u001b[0m\u001b[0mvariables\u001b[0m\u001b[0;34m,\u001b[0m \u001b[0;34m**\u001b[0m\u001b[0mkeyword_values\u001b[0m\u001b[0;34m)\u001b[0m\u001b[0;34m\u001b[0m\u001b[0;34m\u001b[0m\u001b[0m\n\u001b[0m\u001b[1;32m    235\u001b[0m         \u001b[0;32mfinally\u001b[0m\u001b[0;34m:\u001b[0m\u001b[0;34m\u001b[0m\u001b[0;34m\u001b[0m\u001b[0m\n\u001b[1;32m    236\u001b[0m             \u001b[0;31m# remove the context\u001b[0m\u001b[0;34m\u001b[0m\u001b[0;34m\u001b[0m\u001b[0;34m\u001b[0m\u001b[0m\n",
      "\u001b[0;32m<ipython-input-8-6f8955a10000>\u001b[0m in \u001b[0;36mcircuit\u001b[0;34m(w1, w2, p)\u001b[0m\n\u001b[1;32m     10\u001b[0m \u001b[0;34m@\u001b[0m\u001b[0mqml\u001b[0m\u001b[0;34m.\u001b[0m\u001b[0mqnode\u001b[0m\u001b[0;34m(\u001b[0m\u001b[0mdev\u001b[0m\u001b[0;34m,\u001b[0m \u001b[0minterface\u001b[0m \u001b[0;34m=\u001b[0m \u001b[0;34m'torch'\u001b[0m\u001b[0;34m)\u001b[0m\u001b[0;34m\u001b[0m\u001b[0;34m\u001b[0m\u001b[0m\n\u001b[1;32m     11\u001b[0m \u001b[0;32mdef\u001b[0m \u001b[0mcircuit\u001b[0m\u001b[0;34m(\u001b[0m\u001b[0mw1\u001b[0m\u001b[0;34m,\u001b[0m \u001b[0mw2\u001b[0m\u001b[0;34m,\u001b[0m \u001b[0mp\u001b[0m\u001b[0;34m=\u001b[0m\u001b[0;32mNone\u001b[0m\u001b[0;34m)\u001b[0m\u001b[0;34m:\u001b[0m\u001b[0;34m\u001b[0m\u001b[0;34m\u001b[0m\u001b[0m\n\u001b[0;32m---> 12\u001b[0;31m     \u001b[0mAmplitudeEmbedding\u001b[0m\u001b[0;34m(\u001b[0m\u001b[0mp\u001b[0m\u001b[0;34m,\u001b[0m \u001b[0mwires\u001b[0m\u001b[0;34m=\u001b[0m\u001b[0;34m[\u001b[0m\u001b[0;36m0\u001b[0m\u001b[0;34m,\u001b[0m\u001b[0;36m1\u001b[0m\u001b[0;34m]\u001b[0m\u001b[0;34m,\u001b[0m \u001b[0mpad\u001b[0m\u001b[0;34m=\u001b[0m\u001b[0;32mTrue\u001b[0m\u001b[0;34m,\u001b[0m \u001b[0mnormalize\u001b[0m\u001b[0;34m=\u001b[0m\u001b[0;32mTrue\u001b[0m\u001b[0;34m)\u001b[0m\u001b[0;34m\u001b[0m\u001b[0;34m\u001b[0m\u001b[0m\n\u001b[0m\u001b[1;32m     13\u001b[0m     \u001b[0mrandlayer\u001b[0m\u001b[0;34m(\u001b[0m\u001b[0mw1\u001b[0m\u001b[0;34m)\u001b[0m\u001b[0;34m\u001b[0m\u001b[0;34m\u001b[0m\u001b[0m\n\u001b[1;32m     14\u001b[0m     \u001b[0mrandlayer\u001b[0m\u001b[0;34m(\u001b[0m\u001b[0mw2\u001b[0m\u001b[0;34m)\u001b[0m\u001b[0;34m\u001b[0m\u001b[0;34m\u001b[0m\u001b[0m\n",
      "\u001b[0;32m~/pennylane/pennylane/templates/embeddings.py\u001b[0m in \u001b[0;36mAmplitudeEmbedding\u001b[0;34m(features, wires, pad, normalize)\u001b[0m\n\u001b[1;32m    100\u001b[0m     \u001b[0mfeatures\u001b[0m \u001b[0;34m=\u001b[0m \u001b[0mnp\u001b[0m\u001b[0;34m.\u001b[0m\u001b[0marray\u001b[0m\u001b[0;34m(\u001b[0m\u001b[0mfeatures\u001b[0m\u001b[0;34m)\u001b[0m\u001b[0;34m\u001b[0m\u001b[0;34m\u001b[0m\u001b[0m\n\u001b[1;32m    101\u001b[0m \u001b[0;34m\u001b[0m\u001b[0m\n\u001b[0;32m--> 102\u001b[0;31m     \u001b[0mn_features\u001b[0m \u001b[0;34m=\u001b[0m \u001b[0mlen\u001b[0m\u001b[0;34m(\u001b[0m\u001b[0mfeatures\u001b[0m\u001b[0;34m)\u001b[0m\u001b[0;34m\u001b[0m\u001b[0;34m\u001b[0m\u001b[0m\n\u001b[0m\u001b[1;32m    103\u001b[0m     \u001b[0mn_amplitudes\u001b[0m \u001b[0;34m=\u001b[0m \u001b[0;36m2\u001b[0m\u001b[0;34m**\u001b[0m\u001b[0mlen\u001b[0m\u001b[0;34m(\u001b[0m\u001b[0mwires\u001b[0m\u001b[0;34m)\u001b[0m\u001b[0;34m\u001b[0m\u001b[0;34m\u001b[0m\u001b[0m\n\u001b[1;32m    104\u001b[0m \u001b[0;34m\u001b[0m\u001b[0m\n",
      "\u001b[0;31mTypeError\u001b[0m: len() of unsized object"
     ]
    }
   ],
   "source": [
    "with torch.no_grad():\n",
    "    x,y = data.__getitem__(2)    \n",
    "    pred = get_pred(fin1,fin2,x)\n",
    "    print(pred, y)"
   ]
  },
  {
   "cell_type": "code",
   "execution_count": null,
   "metadata": {},
   "outputs": [],
   "source": [
    "import torch.nn as nn\n",
    "import torch.nn.functional as F\n",
    "\n",
    "class Classifier(nn.Module):\n",
    "    \n",
    "    def __init__(self):\n",
    "        super(Classifier, self).__init__()\n",
    "        self.w1_init = Variable((2*pi * torch.rand((2, 3), dtype=torch.float64)), requires_grad=True)\n",
    "        self.w2_init = Variable((2*pi * torch.rand((2, 3), dtype=torch.float64)), requires_grad=True)\n",
    "        \n",
    "    def forward(self, w1, w2, x):  #what to do with data in these layers\n",
    "        @qml.qnode(dev, interface = 'torch')\n",
    "        def circuit(w1, w2, p=None):\n",
    "            AmplitudeEmbedding(p, wires=[0,1], pad=True, normalize=True)\n",
    "            randlayer(w1)\n",
    "            randlayer(w2)\n",
    "            return qml.expval(qml.PauliZ(0))\n",
    "        pred = circuit(w1, w2, p=x)\n",
    "        if pred > 0:\n",
    "            return torch.ceil(pred)\n",
    "        elif pred < 0:\n",
    "            return torch.floor(pred)\n",
    "    "
   ]
  },
  {
   "cell_type": "code",
   "execution_count": null,
   "metadata": {},
   "outputs": [],
   "source": [
    "test_cl = Classifier()\n",
    "print(test_cl.w1_init)"
   ]
  },
  {
   "cell_type": "code",
   "execution_count": null,
   "metadata": {},
   "outputs": [],
   "source": [
    "out = test_classifier(test)\n",
    "out = out.view(1,)\n",
    "print(out.view(1,))\n",
    "target = Variable(torch.tensor([1], dtype=torch.float64),requires_grad = True)\n",
    "print(target)"
   ]
  },
  {
   "cell_type": "code",
   "execution_count": null,
   "metadata": {},
   "outputs": [],
   "source": [
    "loss = F.mse_loss(out, target)\n",
    "print(loss)"
   ]
  },
  {
   "cell_type": "code",
   "execution_count": null,
   "metadata": {},
   "outputs": [],
   "source": [
    "opt = torch.optim.Adam([test_cl.w1_init,test_cl.w2_init], lr = 0.01)\n",
    "\n",
    "for epoch in range(3):\n",
    "    for d in data_batches:\n",
    "        x,y = d\n",
    "        opt.zero_grad()\n",
    "        out = test_classifier(x)\n",
    "        out = out.view(1,)\n",
    "        loss = F.mse_loss(out, y)\n",
    "        loss.backward()\n",
    "        opt.step()\n",
    "    print(loss)"
   ]
  },
  {
   "cell_type": "code",
   "execution_count": null,
   "metadata": {},
   "outputs": [],
   "source": [
    "tp = torch.tensor([1.0, 1.0])\n",
    "ty= torch.tensor([-1.0, 1.0])\n",
    "print(torch.sum((tp-ty)**2))"
   ]
  },
  {
   "cell_type": "code",
   "execution_count": null,
   "metadata": {},
   "outputs": [],
   "source": []
  }
 ],
 "metadata": {
  "kernelspec": {
   "display_name": "Python 3",
   "language": "python",
   "name": "python3"
  },
  "language_info": {
   "codemirror_mode": {
    "name": "ipython",
    "version": 3
   },
   "file_extension": ".py",
   "mimetype": "text/x-python",
   "name": "python",
   "nbconvert_exporter": "python",
   "pygments_lexer": "ipython3",
   "version": "3.7.4"
  }
 },
 "nbformat": 4,
 "nbformat_minor": 2
}
