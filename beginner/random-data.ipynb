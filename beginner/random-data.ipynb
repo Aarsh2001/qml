{
 "cells": [
  {
   "cell_type": "code",
   "execution_count": 1,
   "metadata": {},
   "outputs": [],
   "source": [
    "import pennylane as qml\n",
    "from pennylane import numpy as np\n",
    "import torch"
   ]
  },
  {
   "cell_type": "code",
   "execution_count": 2,
   "metadata": {},
   "outputs": [],
   "source": [
    "from torch.utils.data import Dataset\n",
    "from torch.utils.data import DataLoader\n",
    "\n",
    "class makedata(Dataset):\n",
    "    def __init__(self, col, n_feat, maximum):\n",
    "        self.col = col  #number of datapoints\n",
    "        self.n_feat = n_feat  #number of features\n",
    "        self.maximum = maximum  #increase the range of feature data\n",
    "        self.classes = 2   #number of classes\n",
    "\n",
    "        if col%2 != 0:\n",
    "            col = col+1\n",
    "            print(\"Making datasize an even number for ease: col =\", col)\n",
    "        \n",
    "        self.Xdata1 = torch.rand(col//2, n_feat)*maximum -0.4 \n",
    "        self.Xdata2 = torch.rand(col//2, n_feat)*-maximum +0.4\n",
    "        self.Xdata = torch.cat((self.Xdata1, self.Xdata2), dim=0)\n",
    "\n",
    "        self.Ydata = torch.cat((torch.full((col//2,), 1),torch.full((col//2,), -1)))       \n",
    "\n",
    "    def __len__(self):\n",
    "        return len(self.Ydata)\n",
    "\n",
    "    def __getitem__(self, idx):\n",
    "        return self.Xdata[idx],self.Ydata[idx]\n"
   ]
  },
  {
   "cell_type": "code",
   "execution_count": 3,
   "metadata": {},
   "outputs": [],
   "source": [
    "r =5\n",
    "data = makedata(100, 2, r)"
   ]
  },
  {
   "cell_type": "code",
   "execution_count": 4,
   "metadata": {},
   "outputs": [
    {
     "name": "stdout",
     "output_type": "stream",
     "text": [
      "100\n",
      "tensor([[ 2.0112,  2.8493],\n",
      "        [ 0.7276,  0.9278],\n",
      "        [ 3.2682,  0.5031],\n",
      "        [ 1.3183,  2.9685],\n",
      "        [ 4.2772,  0.2010],\n",
      "        [ 3.8418,  1.3278],\n",
      "        [ 1.7914,  2.1299],\n",
      "        [ 3.5049,  2.7257],\n",
      "        [ 1.0015,  2.3032],\n",
      "        [-0.1458,  3.1430],\n",
      "        [ 3.9750,  3.5774],\n",
      "        [ 3.9428,  2.5406],\n",
      "        [-0.2464,  2.5712],\n",
      "        [ 1.0607,  3.9055],\n",
      "        [-0.0062,  3.0285],\n",
      "        [ 0.3978,  0.5115],\n",
      "        [-0.1678,  0.0636],\n",
      "        [ 1.5575,  2.7338],\n",
      "        [ 4.5279, -0.2458],\n",
      "        [ 3.7934,  0.6809],\n",
      "        [ 3.7855,  1.8603],\n",
      "        [ 2.6047, -0.3192],\n",
      "        [ 3.0447,  2.7204],\n",
      "        [ 0.4449,  1.6583],\n",
      "        [ 2.3399,  0.6076],\n",
      "        [ 4.4211,  2.4921],\n",
      "        [ 1.8463,  0.5386],\n",
      "        [ 4.0802, -0.0930],\n",
      "        [ 1.4225,  0.9076],\n",
      "        [-0.2298,  2.2302],\n",
      "        [ 4.4113,  1.4588],\n",
      "        [ 1.1817,  4.5766],\n",
      "        [ 3.4263,  2.2432],\n",
      "        [ 1.7959,  2.2175],\n",
      "        [ 3.5989,  3.9240],\n",
      "        [-0.2223,  4.5691],\n",
      "        [ 3.9629,  4.5421],\n",
      "        [ 2.8607,  3.5843],\n",
      "        [ 0.2377,  3.9463],\n",
      "        [ 2.8523,  1.4896],\n",
      "        [ 2.9747,  4.0356],\n",
      "        [ 1.6809,  3.2523],\n",
      "        [ 3.1588,  1.2725],\n",
      "        [ 3.6468,  1.8436],\n",
      "        [ 4.2777,  0.8031],\n",
      "        [ 3.2609,  0.1577],\n",
      "        [ 0.8096,  2.2431],\n",
      "        [ 1.4035,  3.7036],\n",
      "        [ 3.4307,  0.5229],\n",
      "        [ 2.8707,  2.8282]])\n",
      "tensor([[-1.8187,  0.1439],\n",
      "        [-3.2545, -1.0478],\n",
      "        [-2.8644, -0.0842],\n",
      "        [-0.8739, -3.2712],\n",
      "        [-4.1861, -3.5542],\n",
      "        [-1.8783, -3.2916],\n",
      "        [-1.5376, -1.1269],\n",
      "        [ 0.0577, -1.2591],\n",
      "        [-2.0775, -0.7072],\n",
      "        [ 0.2405, -3.6654],\n",
      "        [-2.4461,  0.2805],\n",
      "        [-0.8877, -2.7715],\n",
      "        [-1.1727, -1.5229],\n",
      "        [-1.0472, -1.2272],\n",
      "        [-3.4065, -3.0559],\n",
      "        [-2.0602, -0.6893],\n",
      "        [ 0.1483, -4.5747],\n",
      "        [-1.3940, -0.4735],\n",
      "        [-0.9502, -2.5031],\n",
      "        [-2.2256, -1.3152],\n",
      "        [-2.8690, -4.5136],\n",
      "        [-1.0170, -1.4635],\n",
      "        [-2.8059, -1.8805],\n",
      "        [-1.2126, -2.1886],\n",
      "        [-0.2870, -0.2402],\n",
      "        [-2.8889,  0.1590],\n",
      "        [-3.5528, -2.1682],\n",
      "        [-0.2103, -3.2735],\n",
      "        [-3.1952, -3.0128],\n",
      "        [-3.9466, -1.2423],\n",
      "        [-0.2213, -2.0092],\n",
      "        [-2.7354, -3.3975],\n",
      "        [-2.2633,  0.2142],\n",
      "        [-3.1073,  0.2764],\n",
      "        [ 0.3786, -2.5615],\n",
      "        [-3.8082, -2.4245],\n",
      "        [ 0.1903, -2.4042],\n",
      "        [-0.7473, -3.7021],\n",
      "        [-1.3843, -4.2571],\n",
      "        [-3.6516, -4.2322],\n",
      "        [-1.8519, -1.6451],\n",
      "        [-2.0245, -4.2723],\n",
      "        [-1.6027, -2.5770],\n",
      "        [-1.2119, -1.5005],\n",
      "        [ 0.1094, -1.4809],\n",
      "        [-1.3860, -0.1623],\n",
      "        [-3.6866, -0.9644],\n",
      "        [-4.3854, -4.2518],\n",
      "        [-4.5490, -1.6670],\n",
      "        [-2.4658, -2.7779]])\n",
      "tensor([[ 2.0112,  2.8493],\n",
      "        [ 0.7276,  0.9278],\n",
      "        [ 3.2682,  0.5031],\n",
      "        [ 1.3183,  2.9685],\n",
      "        [ 4.2772,  0.2010],\n",
      "        [ 3.8418,  1.3278],\n",
      "        [ 1.7914,  2.1299],\n",
      "        [ 3.5049,  2.7257],\n",
      "        [ 1.0015,  2.3032],\n",
      "        [-0.1458,  3.1430],\n",
      "        [ 3.9750,  3.5774],\n",
      "        [ 3.9428,  2.5406],\n",
      "        [-0.2464,  2.5712],\n",
      "        [ 1.0607,  3.9055],\n",
      "        [-0.0062,  3.0285],\n",
      "        [ 0.3978,  0.5115],\n",
      "        [-0.1678,  0.0636],\n",
      "        [ 1.5575,  2.7338],\n",
      "        [ 4.5279, -0.2458],\n",
      "        [ 3.7934,  0.6809],\n",
      "        [ 3.7855,  1.8603],\n",
      "        [ 2.6047, -0.3192],\n",
      "        [ 3.0447,  2.7204],\n",
      "        [ 0.4449,  1.6583],\n",
      "        [ 2.3399,  0.6076],\n",
      "        [ 4.4211,  2.4921],\n",
      "        [ 1.8463,  0.5386],\n",
      "        [ 4.0802, -0.0930],\n",
      "        [ 1.4225,  0.9076],\n",
      "        [-0.2298,  2.2302],\n",
      "        [ 4.4113,  1.4588],\n",
      "        [ 1.1817,  4.5766],\n",
      "        [ 3.4263,  2.2432],\n",
      "        [ 1.7959,  2.2175],\n",
      "        [ 3.5989,  3.9240],\n",
      "        [-0.2223,  4.5691],\n",
      "        [ 3.9629,  4.5421],\n",
      "        [ 2.8607,  3.5843],\n",
      "        [ 0.2377,  3.9463],\n",
      "        [ 2.8523,  1.4896],\n",
      "        [ 2.9747,  4.0356],\n",
      "        [ 1.6809,  3.2523],\n",
      "        [ 3.1588,  1.2725],\n",
      "        [ 3.6468,  1.8436],\n",
      "        [ 4.2777,  0.8031],\n",
      "        [ 3.2609,  0.1577],\n",
      "        [ 0.8096,  2.2431],\n",
      "        [ 1.4035,  3.7036],\n",
      "        [ 3.4307,  0.5229],\n",
      "        [ 2.8707,  2.8282],\n",
      "        [-1.8187,  0.1439],\n",
      "        [-3.2545, -1.0478],\n",
      "        [-2.8644, -0.0842],\n",
      "        [-0.8739, -3.2712],\n",
      "        [-4.1861, -3.5542],\n",
      "        [-1.8783, -3.2916],\n",
      "        [-1.5376, -1.1269],\n",
      "        [ 0.0577, -1.2591],\n",
      "        [-2.0775, -0.7072],\n",
      "        [ 0.2405, -3.6654],\n",
      "        [-2.4461,  0.2805],\n",
      "        [-0.8877, -2.7715],\n",
      "        [-1.1727, -1.5229],\n",
      "        [-1.0472, -1.2272],\n",
      "        [-3.4065, -3.0559],\n",
      "        [-2.0602, -0.6893],\n",
      "        [ 0.1483, -4.5747],\n",
      "        [-1.3940, -0.4735],\n",
      "        [-0.9502, -2.5031],\n",
      "        [-2.2256, -1.3152],\n",
      "        [-2.8690, -4.5136],\n",
      "        [-1.0170, -1.4635],\n",
      "        [-2.8059, -1.8805],\n",
      "        [-1.2126, -2.1886],\n",
      "        [-0.2870, -0.2402],\n",
      "        [-2.8889,  0.1590],\n",
      "        [-3.5528, -2.1682],\n",
      "        [-0.2103, -3.2735],\n",
      "        [-3.1952, -3.0128],\n",
      "        [-3.9466, -1.2423],\n",
      "        [-0.2213, -2.0092],\n",
      "        [-2.7354, -3.3975],\n",
      "        [-2.2633,  0.2142],\n",
      "        [-3.1073,  0.2764],\n",
      "        [ 0.3786, -2.5615],\n",
      "        [-3.8082, -2.4245],\n",
      "        [ 0.1903, -2.4042],\n",
      "        [-0.7473, -3.7021],\n",
      "        [-1.3843, -4.2571],\n",
      "        [-3.6516, -4.2322],\n",
      "        [-1.8519, -1.6451],\n",
      "        [-2.0245, -4.2723],\n",
      "        [-1.6027, -2.5770],\n",
      "        [-1.2119, -1.5005],\n",
      "        [ 0.1094, -1.4809],\n",
      "        [-1.3860, -0.1623],\n",
      "        [-3.6866, -0.9644],\n",
      "        [-4.3854, -4.2518],\n",
      "        [-4.5490, -1.6670],\n",
      "        [-2.4658, -2.7779]])\n",
      "tensor([ 1.,  1.,  1.,  1.,  1.,  1.,  1.,  1.,  1.,  1.,  1.,  1.,  1.,  1.,\n",
      "         1.,  1.,  1.,  1.,  1.,  1.,  1.,  1.,  1.,  1.,  1.,  1.,  1.,  1.,\n",
      "         1.,  1.,  1.,  1.,  1.,  1.,  1.,  1.,  1.,  1.,  1.,  1.,  1.,  1.,\n",
      "         1.,  1.,  1.,  1.,  1.,  1.,  1.,  1., -1., -1., -1., -1., -1., -1.,\n",
      "        -1., -1., -1., -1., -1., -1., -1., -1., -1., -1., -1., -1., -1., -1.,\n",
      "        -1., -1., -1., -1., -1., -1., -1., -1., -1., -1., -1., -1., -1., -1.,\n",
      "        -1., -1., -1., -1., -1., -1., -1., -1., -1., -1., -1., -1., -1., -1.,\n",
      "        -1., -1.])\n",
      "tensor([3.2682, 0.5031]) tensor(1.)\n"
     ]
    }
   ],
   "source": [
    "print(len(data))\n",
    "print(data.Xdata1)\n",
    "print(data.Xdata2)\n",
    "print(data.Xdata)\n",
    "print(data.Ydata)\n",
    "x,y = data.__getitem__(2)\n",
    "print(x,y)"
   ]
  },
  {
   "cell_type": "code",
   "execution_count": 5,
   "metadata": {},
   "outputs": [
    {
     "name": "stdout",
     "output_type": "stream",
     "text": [
      "tensor([[-2.2256, -1.3152],\n",
      "        [ 2.3399,  0.6076],\n",
      "        [ 0.4449,  1.6583],\n",
      "        [-1.3843, -4.2571]])\n"
     ]
    }
   ],
   "source": [
    "data_batches = DataLoader(data, batch_size=4, shuffle=True)\n",
    "for d in data_batches:\n",
    "    x,y = d\n",
    "    print(x)\n",
    "    break"
   ]
  },
  {
   "cell_type": "code",
   "execution_count": 7,
   "metadata": {},
   "outputs": [
    {
     "data": {
      "image/png": "[encoded data removed]",
      "text/plain": [
       "<Figure size 432x288 with 1 Axes>"
      ]
     },
     "metadata": {
      "needs_background": "light"
     },
     "output_type": "display_data"
    }
   ],
   "source": [
    "import matplotlib.pyplot as plt\n",
    "\n",
    "colors = (\"red\", \"blue\")\n",
    "groups = (\"class 1\", \"class 2\")\n",
    "\n",
    "#plt.xlim(-r+1,r+1)\n",
    "#plt.ylim(-r+1,r+1)\n",
    "plt.scatter(data.Xdata1[:,0], data.Xdata1[:,1], color=\"tab:red\", label= \"Class1\")\n",
    "plt.scatter(data.Xdata2[:,0], data.Xdata2[:,1], color=\"tab:blue\", label = \"Class2\")\n",
    "plt.legend(loc = 'best')\n",
    "plt.show()"
   ]
  },
  {
   "cell_type": "code",
   "execution_count": 8,
   "metadata": {},
   "outputs": [],
   "source": [
    "from pennylane.templates.embeddings import AmplitudeEmbedding\n",
    "\n",
    "def rlayer(W):\n",
    "    qml.Rot(W[0, 0], W[0, 1], W[0, 2], wires=0)\n",
    "    qml.Rot(W[1, 0], W[1, 1], W[1, 2], wires=1)\n",
    "    qml.CNOT(wires=[0,1])\n",
    "\n",
    "dev = qml.device('default.qubit', wires=2)\n",
    "\n",
    "@qml.qnode(dev, interface = 'torch')\n",
    "def circuit(weights, p=None):\n",
    "    AmplitudeEmbedding(p, wires=[0,1], pad=True, normalize=True)\n",
    "    rlayer(weights)\n",
    "    return qml.expval(qml.PauliZ(0))\n"
   ]
  },
  {
   "cell_type": "code",
   "execution_count": 9,
   "metadata": {},
   "outputs": [],
   "source": [
    "def get_pred(weights, x):   #predictions for one batch\n",
    "    pred = torch.empty(4,)    \n",
    "    for i in range(len(x)):\n",
    "        pred[i] = circuit(weights, p=x[i])\n",
    "    return pred"
   ]
  },
  {
   "cell_type": "code",
   "execution_count": 10,
   "metadata": {},
   "outputs": [],
   "source": [
    "def get_loss(weights, x, y):\n",
    "    loss = 0\n",
    "    pred = get_pred(weights,x)\n",
    "    loss = torch.sum(torch.abs(pred-y)**2)/len(y)\n",
    "    return loss"
   ]
  },
  {
   "cell_type": "code",
   "execution_count": 11,
   "metadata": {},
   "outputs": [
    {
     "name": "stdout",
     "output_type": "stream",
     "text": [
      "tensor([[4.7603, 1.7550, 2.5326],\n",
      "        [4.6162, 0.1840, 5.0257]], grad_fn=<MulBackward0>)\n"
     ]
    }
   ],
   "source": [
    "from math import pi\n",
    "from torch.autograd import Variable\n",
    "\n",
    "torch.manual_seed(1)\n",
    "#weights_init = Variable((2*pi * torch.rand((2, 3), dtype=torch.float64)), requires_grad=True)\n",
    "weights_init = torch.rand((2, 3), requires_grad = True) * (2*pi)\n",
    "print(weights_init)"
   ]
  },
  {
   "cell_type": "code",
   "execution_count": 12,
   "metadata": {},
   "outputs": [
    {
     "name": "stdout",
     "output_type": "stream",
     "text": [
      "tensor(-0.1831, dtype=torch.float64, grad_fn=<_TorchQNodeBackward>)\n"
     ]
    }
   ],
   "source": [
    "test = torch.tensor([0.001, 0.004])\n",
    "\n",
    "print(circuit(weights_init, p=test))"
   ]
  },
  {
   "cell_type": "code",
   "execution_count": 13,
   "metadata": {},
   "outputs": [
    {
     "ename": "ValueError",
     "evalue": "can't optimize a non-leaf Tensor",
     "output_type": "error",
     "traceback": [
      "\u001b[0;31m---------------------------------------------------------------------------\u001b[0m",
      "\u001b[0;31mValueError\u001b[0m                                Traceback (most recent call last)",
      "\u001b[0;32m<ipython-input-13-7409ef1530cc>\u001b[0m in \u001b[0;36m<module>\u001b[0;34m\u001b[0m\n\u001b[1;32m      1\u001b[0m \u001b[0mweights\u001b[0m \u001b[0;34m=\u001b[0m \u001b[0;34m[\u001b[0m\u001b[0mweights_init\u001b[0m\u001b[0;34m]\u001b[0m\u001b[0;34m\u001b[0m\u001b[0;34m\u001b[0m\u001b[0m\n\u001b[0;32m----> 2\u001b[0;31m \u001b[0mopt\u001b[0m \u001b[0;34m=\u001b[0m \u001b[0mtorch\u001b[0m\u001b[0;34m.\u001b[0m\u001b[0moptim\u001b[0m\u001b[0;34m.\u001b[0m\u001b[0mSGD\u001b[0m\u001b[0;34m(\u001b[0m\u001b[0mweights\u001b[0m\u001b[0;34m,\u001b[0m \u001b[0mlr\u001b[0m \u001b[0;34m=\u001b[0m \u001b[0;36m0.1\u001b[0m\u001b[0;34m)\u001b[0m\u001b[0;34m\u001b[0m\u001b[0;34m\u001b[0m\u001b[0m\n\u001b[0m\u001b[1;32m      3\u001b[0m \u001b[0;34m\u001b[0m\u001b[0m\n\u001b[1;32m      4\u001b[0m \u001b[0;32mfor\u001b[0m \u001b[0mstep\u001b[0m \u001b[0;32min\u001b[0m \u001b[0mrange\u001b[0m\u001b[0;34m(\u001b[0m\u001b[0;36m50\u001b[0m\u001b[0;34m)\u001b[0m\u001b[0;34m:\u001b[0m\u001b[0;34m\u001b[0m\u001b[0;34m\u001b[0m\u001b[0m\n\u001b[1;32m      5\u001b[0m     \u001b[0;32mfor\u001b[0m \u001b[0md\u001b[0m \u001b[0;32min\u001b[0m \u001b[0mdata_batches\u001b[0m\u001b[0;34m:\u001b[0m\u001b[0;34m\u001b[0m\u001b[0;34m\u001b[0m\u001b[0m\n",
      "\u001b[0;32m~/conda3/lib/python3.7/site-packages/torch/optim/sgd.py\u001b[0m in \u001b[0;36m__init__\u001b[0;34m(self, params, lr, momentum, dampening, weight_decay, nesterov)\u001b[0m\n\u001b[1;32m     62\u001b[0m         \u001b[0;32mif\u001b[0m \u001b[0mnesterov\u001b[0m \u001b[0;32mand\u001b[0m \u001b[0;34m(\u001b[0m\u001b[0mmomentum\u001b[0m \u001b[0;34m<=\u001b[0m \u001b[0;36m0\u001b[0m \u001b[0;32mor\u001b[0m \u001b[0mdampening\u001b[0m \u001b[0;34m!=\u001b[0m \u001b[0;36m0\u001b[0m\u001b[0;34m)\u001b[0m\u001b[0;34m:\u001b[0m\u001b[0;34m\u001b[0m\u001b[0;34m\u001b[0m\u001b[0m\n\u001b[1;32m     63\u001b[0m             \u001b[0;32mraise\u001b[0m \u001b[0mValueError\u001b[0m\u001b[0;34m(\u001b[0m\u001b[0;34m\"Nesterov momentum requires a momentum and zero dampening\"\u001b[0m\u001b[0;34m)\u001b[0m\u001b[0;34m\u001b[0m\u001b[0;34m\u001b[0m\u001b[0m\n\u001b[0;32m---> 64\u001b[0;31m         \u001b[0msuper\u001b[0m\u001b[0;34m(\u001b[0m\u001b[0mSGD\u001b[0m\u001b[0;34m,\u001b[0m \u001b[0mself\u001b[0m\u001b[0;34m)\u001b[0m\u001b[0;34m.\u001b[0m\u001b[0m__init__\u001b[0m\u001b[0;34m(\u001b[0m\u001b[0mparams\u001b[0m\u001b[0;34m,\u001b[0m \u001b[0mdefaults\u001b[0m\u001b[0;34m)\u001b[0m\u001b[0;34m\u001b[0m\u001b[0;34m\u001b[0m\u001b[0m\n\u001b[0m\u001b[1;32m     65\u001b[0m \u001b[0;34m\u001b[0m\u001b[0m\n\u001b[1;32m     66\u001b[0m     \u001b[0;32mdef\u001b[0m \u001b[0m__setstate__\u001b[0m\u001b[0;34m(\u001b[0m\u001b[0mself\u001b[0m\u001b[0;34m,\u001b[0m \u001b[0mstate\u001b[0m\u001b[0;34m)\u001b[0m\u001b[0;34m:\u001b[0m\u001b[0;34m\u001b[0m\u001b[0;34m\u001b[0m\u001b[0m\n",
      "\u001b[0;32m~/conda3/lib/python3.7/site-packages/torch/optim/optimizer.py\u001b[0m in \u001b[0;36m__init__\u001b[0;34m(self, params, defaults)\u001b[0m\n\u001b[1;32m     49\u001b[0m \u001b[0;34m\u001b[0m\u001b[0m\n\u001b[1;32m     50\u001b[0m         \u001b[0;32mfor\u001b[0m \u001b[0mparam_group\u001b[0m \u001b[0;32min\u001b[0m \u001b[0mparam_groups\u001b[0m\u001b[0;34m:\u001b[0m\u001b[0;34m\u001b[0m\u001b[0;34m\u001b[0m\u001b[0m\n\u001b[0;32m---> 51\u001b[0;31m             \u001b[0mself\u001b[0m\u001b[0;34m.\u001b[0m\u001b[0madd_param_group\u001b[0m\u001b[0;34m(\u001b[0m\u001b[0mparam_group\u001b[0m\u001b[0;34m)\u001b[0m\u001b[0;34m\u001b[0m\u001b[0;34m\u001b[0m\u001b[0m\n\u001b[0m\u001b[1;32m     52\u001b[0m \u001b[0;34m\u001b[0m\u001b[0m\n\u001b[1;32m     53\u001b[0m     \u001b[0;32mdef\u001b[0m \u001b[0m__getstate__\u001b[0m\u001b[0;34m(\u001b[0m\u001b[0mself\u001b[0m\u001b[0;34m)\u001b[0m\u001b[0;34m:\u001b[0m\u001b[0;34m\u001b[0m\u001b[0;34m\u001b[0m\u001b[0m\n",
      "\u001b[0;32m~/conda3/lib/python3.7/site-packages/torch/optim/optimizer.py\u001b[0m in \u001b[0;36madd_param_group\u001b[0;34m(self, param_group)\u001b[0m\n\u001b[1;32m    200\u001b[0m                                 \"but one of the params is \" + torch.typename(param))\n\u001b[1;32m    201\u001b[0m             \u001b[0;32mif\u001b[0m \u001b[0;32mnot\u001b[0m \u001b[0mparam\u001b[0m\u001b[0;34m.\u001b[0m\u001b[0mis_leaf\u001b[0m\u001b[0;34m:\u001b[0m\u001b[0;34m\u001b[0m\u001b[0;34m\u001b[0m\u001b[0m\n\u001b[0;32m--> 202\u001b[0;31m                 \u001b[0;32mraise\u001b[0m \u001b[0mValueError\u001b[0m\u001b[0;34m(\u001b[0m\u001b[0;34m\"can't optimize a non-leaf Tensor\"\u001b[0m\u001b[0;34m)\u001b[0m\u001b[0;34m\u001b[0m\u001b[0;34m\u001b[0m\u001b[0m\n\u001b[0m\u001b[1;32m    203\u001b[0m \u001b[0;34m\u001b[0m\u001b[0m\n\u001b[1;32m    204\u001b[0m         \u001b[0;32mfor\u001b[0m \u001b[0mname\u001b[0m\u001b[0;34m,\u001b[0m \u001b[0mdefault\u001b[0m \u001b[0;32min\u001b[0m \u001b[0mself\u001b[0m\u001b[0;34m.\u001b[0m\u001b[0mdefaults\u001b[0m\u001b[0;34m.\u001b[0m\u001b[0mitems\u001b[0m\u001b[0;34m(\u001b[0m\u001b[0;34m)\u001b[0m\u001b[0;34m:\u001b[0m\u001b[0;34m\u001b[0m\u001b[0;34m\u001b[0m\u001b[0m\n",
      "\u001b[0;31mValueError\u001b[0m: can't optimize a non-leaf Tensor"
     ]
    }
   ],
   "source": [
    "weights = [weights_init]\n",
    "opt = torch.optim.SGD(weights, lr = 0.1)\n",
    "\n",
    "for step in range(50):\n",
    "    for d in data_batches:\n",
    "        x,y = d\n",
    "        opt.zero_grad()\n",
    "        loss = get_loss(weights, x, y)\n",
    "        loss.backward()\n",
    "        opt.step()\n",
    "    print(step, loss)"
   ]
  },
  {
   "cell_type": "code",
   "execution_count": null,
   "metadata": {},
   "outputs": [],
   "source": []
  }
 ],
 "metadata": {
  "kernelspec": {
   "display_name": "Python 3",
   "language": "python",
   "name": "python3"
  },
  "language_info": {
   "codemirror_mode": {
    "name": "ipython",
    "version": 3
   },
   "file_extension": ".py",
   "mimetype": "text/x-python",
   "name": "python",
   "nbconvert_exporter": "python",
   "pygments_lexer": "ipython3",
   "version": "3.7.3"
  }
 },
 "nbformat": 4,
 "nbformat_minor": 2
}
